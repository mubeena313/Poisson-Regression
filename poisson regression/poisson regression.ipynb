{
 "cells": [
  {
   "cell_type": "markdown",
   "id": "9cc0dea5-59b5-4314-9b66-d4ebaacbeb4d",
   "metadata": {},
   "source": [
    "# Poisson Regression\n",
    "we are building a poisson regression model on the **student awards** dataset.The dataset contains two variaables - awards won and math score"
   ]
  },
  {
   "cell_type": "markdown",
   "id": "37c0e7d4-319a-4c74-8e79-c5350019d479",
   "metadata": {},
   "source": [
    "## Importing Libraries"
   ]
  },
  {
   "cell_type": "code",
   "execution_count": 4,
   "id": "78b635a1-bcfe-4599-bb9b-de1457dc764b",
   "metadata": {},
   "outputs": [],
   "source": [
    "import pandas as pd\n",
    "import matplotlib.pyplot as plt\n",
    "from sklearn.linear_model import PoissonRegressor\n",
    "from sklearn.pipeline import Pipeline\n",
    "from sklearn import metrics"
   ]
  },
  {
   "cell_type": "code",
   "execution_count": 6,
   "id": "b05cb5ab-5bad-42c1-9f50-06505827bf66",
   "metadata": {},
   "outputs": [],
   "source": [
    "# fetching data\n",
    "df = pd.read_csv(\"competition_awards_data.csv\")"
   ]
  },
  {
   "cell_type": "code",
   "execution_count": 8,
   "id": "5cf6955c-ba25-4a2f-8f07-0fe63b92f64a",
   "metadata": {},
   "outputs": [
    {
     "data": {
      "text/html": [
       "<div>\n",
       "<style scoped>\n",
       "    .dataframe tbody tr th:only-of-type {\n",
       "        vertical-align: middle;\n",
       "    }\n",
       "\n",
       "    .dataframe tbody tr th {\n",
       "        vertical-align: top;\n",
       "    }\n",
       "\n",
       "    .dataframe thead th {\n",
       "        text-align: right;\n",
       "    }\n",
       "</style>\n",
       "<table border=\"1\" class=\"dataframe\">\n",
       "  <thead>\n",
       "    <tr style=\"text-align: right;\">\n",
       "      <th></th>\n",
       "      <th>Awards</th>\n",
       "      <th>Math Score</th>\n",
       "    </tr>\n",
       "  </thead>\n",
       "  <tbody>\n",
       "    <tr>\n",
       "      <th>0</th>\n",
       "      <td>0</td>\n",
       "      <td>43</td>\n",
       "    </tr>\n",
       "    <tr>\n",
       "      <th>1</th>\n",
       "      <td>0</td>\n",
       "      <td>38</td>\n",
       "    </tr>\n",
       "    <tr>\n",
       "      <th>2</th>\n",
       "      <td>0</td>\n",
       "      <td>41</td>\n",
       "    </tr>\n",
       "    <tr>\n",
       "      <th>3</th>\n",
       "      <td>0</td>\n",
       "      <td>33</td>\n",
       "    </tr>\n",
       "    <tr>\n",
       "      <th>4</th>\n",
       "      <td>0</td>\n",
       "      <td>39</td>\n",
       "    </tr>\n",
       "  </tbody>\n",
       "</table>\n",
       "</div>"
      ],
      "text/plain": [
       "   Awards  Math Score\n",
       "0       0          43\n",
       "1       0          38\n",
       "2       0          41\n",
       "3       0          33\n",
       "4       0          39"
      ]
     },
     "execution_count": 8,
     "metadata": {},
     "output_type": "execute_result"
    }
   ],
   "source": [
    "df.head()"
   ]
  },
  {
   "cell_type": "code",
   "execution_count": 12,
   "id": "fe09e1b5-2f37-44eb-83a6-90711a87d209",
   "metadata": {},
   "outputs": [
    {
     "data": {
      "text/plain": [
       "(200, 2)"
      ]
     },
     "execution_count": 12,
     "metadata": {},
     "output_type": "execute_result"
    }
   ],
   "source": [
    "#number of observation\n",
    "df.shape"
   ]
  },
  {
   "cell_type": "code",
   "execution_count": 14,
   "id": "56535c88-0130-446e-b184-5a843d12ce6d",
   "metadata": {},
   "outputs": [
    {
     "data": {
      "text/plain": [
       "Awards        0\n",
       "Math Score    0\n",
       "dtype: int64"
      ]
     },
     "execution_count": 14,
     "metadata": {},
     "output_type": "execute_result"
    }
   ],
   "source": [
    "#checking null values\n",
    "df.isnull().sum()   "
   ]
  },
  {
   "cell_type": "markdown",
   "id": "5eb891ec-be40-4507-85bf-670371fdf609",
   "metadata": {},
   "source": [
    "There is no null values"
   ]
  },
  {
   "cell_type": "code",
   "execution_count": 19,
   "id": "edb8486f-27f3-41ba-bee1-4071c7d86e86",
   "metadata": {},
   "outputs": [
    {
     "data": {
      "image/png": "[encoded data removed]",
      "text/plain": [
       "<Figure size 2000x800 with 1 Axes>"
      ]
     },
     "metadata": {},
     "output_type": "display_data"
    }
   ],
   "source": [
    "#plotting awards agains Math score\n",
    "fig, ax = plt.subplots(figsize=(20,8))\n",
    "plt.grid()\n",
    "ax.set_ylabel(\"Awards\")\n",
    "ax.set_xlabel(\"Math Score\")\n",
    "ax.scatter(df['Math Score'], df.Awards)\n",
    "plt.show()"
   ]
  },
  {
   "cell_type": "markdown",
   "id": "47caf586-0ae5-45c6-8063-e6067869b718",
   "metadata": {},
   "source": [
    "### Train Test Split\n"
   ]
  },
  {
   "cell_type": "code",
   "execution_count": 25,
   "id": "0bce8309-2714-4c8a-b94f-0f99eed4d8bb",
   "metadata": {},
   "outputs": [],
   "source": [
    "from sklearn.model_selection import train_test_split"
   ]
  },
  {
   "cell_type": "code",
   "execution_count": 32,
   "id": "57cedcd1-2d2e-45ca-89c6-04ba4080f666",
   "metadata": {},
   "outputs": [],
   "source": [
    "train, test = train_test_split(df, train_size = .8, random_state = 1)"
   ]
  },
  {
   "cell_type": "code",
   "execution_count": 34,
   "id": "9609416c-b316-47f5-9394-b075673cfa04",
   "metadata": {},
   "outputs": [
    {
     "name": "stdout",
     "output_type": "stream",
     "text": [
      "160\n"
     ]
    }
   ],
   "source": [
    "print(len(train))"
   ]
  },
  {
   "cell_type": "code",
   "execution_count": 36,
   "id": "2f6ca6d7-4cef-4816-9d47-3d0a08ce5105",
   "metadata": {},
   "outputs": [
    {
     "name": "stdout",
     "output_type": "stream",
     "text": [
      "40\n"
     ]
    }
   ],
   "source": [
    "print(len(test))"
   ]
  },
  {
   "cell_type": "code",
   "execution_count": 38,
   "id": "493a8172-8611-46e8-9b87-bbb88998fb2c",
   "metadata": {},
   "outputs": [
    {
     "data": {
      "text/plain": [
       "((160, 1), (160,))"
      ]
     },
     "execution_count": 38,
     "metadata": {},
     "output_type": "execute_result"
    }
   ],
   "source": [
    "#define X and y for training and test\n",
    "X_train = train['Math Score'].values.reshape(-1, 1)\n",
    "y_train = train.Awards\n",
    "\n",
    "X_train.shape,y_train.shape"
   ]
  },
  {
   "cell_type": "code",
   "execution_count": 42,
   "id": "026ce27e-84c4-470c-ad1f-1c98fac651e8",
   "metadata": {},
   "outputs": [
    {
     "data": {
      "text/plain": [
       "((40, 1), (40,))"
      ]
     },
     "execution_count": 42,
     "metadata": {},
     "output_type": "execute_result"
    }
   ],
   "source": [
    "X_test = test['Math Score'].values.reshape(-1, 1)\n",
    "y_test = test.Awards\n",
    "X_test.shape,y_test.shape"
   ]
  },
  {
   "cell_type": "markdown",
   "id": "46cc8afa-b1bd-455f-8103-566bffb31d25",
   "metadata": {},
   "source": [
    "* Doing a polynomial regression: Comparing linear, quadratic and cubic fits\n",
    "Pipeline helps you associate two models or objects to be built sequentially with each other, \n",
    "* in this case, PoissonRegressor() is the only object\n"
   ]
  },
  {
   "cell_type": "code",
   "execution_count": 47,
   "id": "5de639b3-1e6d-407d-bd8a-2b6ed18e9bd9",
   "metadata": {},
   "outputs": [
    {
     "data": {
      "text/plain": [
       "0.8371373661390173"
      ]
     },
     "execution_count": 47,
     "metadata": {},
     "output_type": "execute_result"
    }
   ],
   "source": [
    "pipeline = Pipeline([('model', PoissonRegressor())])\n",
    "pipeline.fit(X_train, y_train)\n",
    "y_pred = pipeline.predict(X_test)\n",
    "r2_test = metrics.r2_score(y_test, y_pred)\n",
    "\n",
    "r2_test"
   ]
  },
  {
   "cell_type": "markdown",
   "id": "3ca33082-c2f3-4e30-9d64-a851abc24afa",
   "metadata": {},
   "source": [
    "### Training performance"
   ]
  },
  {
   "cell_type": "code",
   "execution_count": 51,
   "id": "7754eb9d-f088-49fc-a5c6-e4e41d0a179e",
   "metadata": {},
   "outputs": [
    {
     "data": {
      "text/plain": [
       "0.8586107885977592"
      ]
     },
     "execution_count": 51,
     "metadata": {},
     "output_type": "execute_result"
    }
   ],
   "source": [
    "y_pred_train = pipeline.predict(X_train)\n",
    "r2_train = metrics.r2_score(y_train,y_pred_train)\n",
    "r2_train"
   ]
  },
  {
   "cell_type": "markdown",
   "id": "dccce402-6619-4cd1-bd1c-f4776a922606",
   "metadata": {},
   "source": [
    "### plot predictions and actual values against Math score"
   ]
  },
  {
   "cell_type": "code",
   "execution_count": 56,
   "id": "bb02afb3-5377-43f2-96d5-ce2ad36cbe7e",
   "metadata": {},
   "outputs": [
    {
     "data": {
      "image/png": "[encoded data removed]",
      "text/plain": [
       "<Figure size 2000x800 with 1 Axes>"
      ]
     },
     "metadata": {},
     "output_type": "display_data"
    }
   ],
   "source": [
    "fig, ax = plt.subplots(figsize =(20,8))\n",
    "plt.grid()\n",
    "ax.set_xlabel(\"Math Score\")\n",
    "ax.set_ylabel(\"Awards\")\n",
    "\n",
    "#train data in blue\n",
    "ax.scatter(X_train, y_train, color ='blue', label = \"Original Train Data\")\n",
    "ax.plot(X_train, y_pred_train, \".\" ,color='green',label=\"Predicted Train Data\")\n",
    "\n",
    "#test data\n",
    "ax.scatter(X_test, y_test, color='black', label ='Original Test Data')\n",
    "ax.plot(X_test, y_pred, '*', color ='red', label ='Predicted Test Data')\n",
    "ax.legend()\n",
    "plt.show()"
   ]
  },
  {
   "cell_type": "code",
   "execution_count": 58,
   "id": "56d704fd-551d-42b9-ae07-9638461b06e8",
   "metadata": {},
   "outputs": [
    {
     "data": {
      "text/html": [
       "<div>\n",
       "<style scoped>\n",
       "    .dataframe tbody tr th:only-of-type {\n",
       "        vertical-align: middle;\n",
       "    }\n",
       "\n",
       "    .dataframe tbody tr th {\n",
       "        vertical-align: top;\n",
       "    }\n",
       "\n",
       "    .dataframe thead th {\n",
       "        text-align: right;\n",
       "    }\n",
       "</style>\n",
       "<table border=\"1\" class=\"dataframe\">\n",
       "  <thead>\n",
       "    <tr style=\"text-align: right;\">\n",
       "      <th></th>\n",
       "      <th>index</th>\n",
       "      <th>y_pred</th>\n",
       "      <th>y</th>\n",
       "    </tr>\n",
       "  </thead>\n",
       "  <tbody>\n",
       "    <tr>\n",
       "      <th>0</th>\n",
       "      <td>58</td>\n",
       "      <td>0.0</td>\n",
       "      <td>0</td>\n",
       "    </tr>\n",
       "    <tr>\n",
       "      <th>1</th>\n",
       "      <td>40</td>\n",
       "      <td>0.0</td>\n",
       "      <td>0</td>\n",
       "    </tr>\n",
       "    <tr>\n",
       "      <th>2</th>\n",
       "      <td>34</td>\n",
       "      <td>1.0</td>\n",
       "      <td>1</td>\n",
       "    </tr>\n",
       "    <tr>\n",
       "      <th>3</th>\n",
       "      <td>102</td>\n",
       "      <td>0.0</td>\n",
       "      <td>0</td>\n",
       "    </tr>\n",
       "    <tr>\n",
       "      <th>4</th>\n",
       "      <td>184</td>\n",
       "      <td>3.0</td>\n",
       "      <td>2</td>\n",
       "    </tr>\n",
       "  </tbody>\n",
       "</table>\n",
       "</div>"
      ],
      "text/plain": [
       "   index  y_pred  y\n",
       "0     58     0.0  0\n",
       "1     40     0.0  0\n",
       "2     34     1.0  1\n",
       "3    102     0.0  0\n",
       "4    184     3.0  2"
      ]
     },
     "execution_count": 58,
     "metadata": {},
     "output_type": "execute_result"
    }
   ],
   "source": [
    "eval = pd.DataFrame({'y_pred' : [round(y,0) for y in y_pred], 'y' : y_test}).reset_index()\n",
    "eval.head()"
   ]
  },
  {
   "cell_type": "code",
   "execution_count": 62,
   "id": "6ebf16d0-42aa-4e41-bcdd-1808f9d9a0ea",
   "metadata": {},
   "outputs": [
    {
     "name": "stdout",
     "output_type": "stream",
     "text": [
      "     Frequency table\n"
     ]
    },
    {
     "data": {
      "text/html": [
       "<div>\n",
       "<style scoped>\n",
       "    .dataframe tbody tr th:only-of-type {\n",
       "        vertical-align: middle;\n",
       "    }\n",
       "\n",
       "    .dataframe tbody tr th {\n",
       "        vertical-align: top;\n",
       "    }\n",
       "\n",
       "    .dataframe thead th {\n",
       "        text-align: right;\n",
       "    }\n",
       "</style>\n",
       "<table border=\"1\" class=\"dataframe\">\n",
       "  <thead>\n",
       "    <tr style=\"text-align: right;\">\n",
       "      <th>y_pred</th>\n",
       "      <th>0.0</th>\n",
       "      <th>1.0</th>\n",
       "      <th>3.0</th>\n",
       "      <th>4.0</th>\n",
       "    </tr>\n",
       "    <tr>\n",
       "      <th>y</th>\n",
       "      <th></th>\n",
       "      <th></th>\n",
       "      <th></th>\n",
       "      <th></th>\n",
       "    </tr>\n",
       "  </thead>\n",
       "  <tbody>\n",
       "    <tr>\n",
       "      <th>0</th>\n",
       "      <td>24.0</td>\n",
       "      <td>0.0</td>\n",
       "      <td>0.0</td>\n",
       "      <td>0.0</td>\n",
       "    </tr>\n",
       "    <tr>\n",
       "      <th>1</th>\n",
       "      <td>2.0</td>\n",
       "      <td>6.0</td>\n",
       "      <td>0.0</td>\n",
       "      <td>0.0</td>\n",
       "    </tr>\n",
       "    <tr>\n",
       "      <th>2</th>\n",
       "      <td>0.0</td>\n",
       "      <td>0.0</td>\n",
       "      <td>3.0</td>\n",
       "      <td>0.0</td>\n",
       "    </tr>\n",
       "    <tr>\n",
       "      <th>3</th>\n",
       "      <td>0.0</td>\n",
       "      <td>0.0</td>\n",
       "      <td>0.0</td>\n",
       "      <td>4.0</td>\n",
       "    </tr>\n",
       "    <tr>\n",
       "      <th>5</th>\n",
       "      <td>0.0</td>\n",
       "      <td>0.0</td>\n",
       "      <td>0.0</td>\n",
       "      <td>1.0</td>\n",
       "    </tr>\n",
       "  </tbody>\n",
       "</table>\n",
       "</div>"
      ],
      "text/plain": [
       "y_pred   0.0  1.0  3.0  4.0\n",
       "y                          \n",
       "0       24.0  0.0  0.0  0.0\n",
       "1        2.0  6.0  0.0  0.0\n",
       "2        0.0  0.0  3.0  0.0\n",
       "3        0.0  0.0  0.0  4.0\n",
       "5        0.0  0.0  0.0  1.0"
      ]
     },
     "execution_count": 62,
     "metadata": {},
     "output_type": "execute_result"
    }
   ],
   "source": [
    "print('     Frequency table')\n",
    "eval.groupby(['y', 'y_pred']).agg('count').reset_index().pivot(index='y', columns='y_pred', values='index').fillna(0)"
   ]
  },
  {
   "cell_type": "markdown",
   "id": "e607973d-515f-41f0-b7a1-20d9dac95be8",
   "metadata": {},
   "source": [
    "### Great Job"
   ]
  },
  {
   "cell_type": "code",
   "execution_count": null,
   "id": "d8f2e874-f27b-4424-ad7d-28cbcb84279a",
   "metadata": {},
   "outputs": [],
   "source": []
  }
 ],
 "metadata": {
  "kernelspec": {
   "display_name": "Python 3 (ipykernel)",
   "language": "python",
   "name": "python3"
  },
  "language_info": {
   "codemirror_mode": {
    "name": "ipython",
    "version": 3
   },
   "file_extension": ".py",
   "mimetype": "text/x-python",
   "name": "python",
   "nbconvert_exporter": "python",
   "pygments_lexer": "ipython3",
   "version": "3.12.4"
  }
 },
 "nbformat": 4,
 "nbformat_minor": 5
}
